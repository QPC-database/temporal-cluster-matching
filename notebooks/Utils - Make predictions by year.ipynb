{
 "cells": [
  {
   "cell_type": "code",
   "execution_count": 1,
   "id": "computational-calgary",
   "metadata": {},
   "outputs": [],
   "source": [
    "# Copyright (c) Microsoft Corporation. All rights reserved\n",
    "# Licensed under the MIT License.\n",
    "%matplotlib inline\n",
    "%load_ext autoreload\n",
    "%autoreload 2\n",
    "import sys\n",
    "sys.path.append(\"..\")\n",
    "import os\n",
    "\n",
    "import numpy as np\n",
    "\n",
    "import fiona\n",
    "\n",
    "from temporal_cluster_matching import utils, DataInterface, algorithms"
   ]
  },
  {
   "cell_type": "markdown",
   "id": "ignored-beatles",
   "metadata": {},
   "source": [
    "## NAIP / Poultry barns"
   ]
  },
  {
   "cell_type": "code",
   "execution_count": 2,
   "id": "blond-panama",
   "metadata": {},
   "outputs": [
    {
     "name": "stdout",
     "output_type": "stream",
     "text": [
      "0.938\n"
     ]
    }
   ],
   "source": [
    "labeled_idxs, labeled_years = utils.get_poultry_barn_labels(\"../data/\")\n",
    "labeled_idxs = np.array(labeled_idxs)\n",
    "labeled_years = np.array(labeled_years)\n",
    "all_idxs, all_years, all_distances = utils.get_results(\"../results/kl/poultry_barns-64-200/results.csv\")\n",
    "all_idxs = np.array(all_idxs)\n",
    "theta = 1.931520 # we get this estimate of theta from the poultry_barns-64-200 row in ../results/heuristic-theta_results.csv\n",
    "\n",
    "distances, years = [], []\n",
    "for idx in labeled_idxs:\n",
    "    distances.append(all_distances[idx])\n",
    "    years.append(all_years[idx])\n",
    "\n",
    "predicted_years = utils.decision_function(distances, years, theta, 2016)\n",
    "predicted_years = np.array(predicted_years)\n",
    "\n",
    "print(utils.uncertain_accuracy(labeled_years, predicted_years))"
   ]
  },
  {
   "cell_type": "code",
   "execution_count": 3,
   "id": "future-mandate",
   "metadata": {},
   "outputs": [],
   "source": [
    "all_predicted_years = utils.decision_function(all_distances, all_years, theta, 2016)"
   ]
  },
  {
   "cell_type": "code",
   "execution_count": 4,
   "id": "incident-final",
   "metadata": {},
   "outputs": [],
   "source": [
    "all_predicted_years = np.array(all_predicted_years)"
   ]
  },
  {
   "cell_type": "code",
   "execution_count": 5,
   "id": "impressive-stability",
   "metadata": {},
   "outputs": [],
   "source": [
    "years = list(range(2011, 2019))\n",
    "idxs_per_year = []\n",
    "for year in years:\n",
    "    idxs_per_year.append(np.where(all_predicted_years <= year)[0])    "
   ]
  },
  {
   "cell_type": "code",
   "execution_count": 6,
   "id": "charitable-significance",
   "metadata": {},
   "outputs": [
    {
     "name": "stdout",
     "output_type": "stream",
     "text": [
      "2011 5099\n",
      "2012 5126\n",
      "2013 5363\n",
      "2014 5377\n",
      "2015 5655\n",
      "2016 5683\n",
      "2017 6013\n",
      "2018 6013\n"
     ]
    }
   ],
   "source": [
    "for idxs, year in zip(idxs_per_year, years):\n",
    "    print(year, len(idxs))"
   ]
  },
  {
   "cell_type": "code",
   "execution_count": 7,
   "id": "seasonal-whole",
   "metadata": {},
   "outputs": [],
   "source": [
    "with fiona.open(\"../data/Delmarva_PL_House_Final2_epsg26918.geojson\", \"r\") as source:\n",
    "\n",
    "    sink_schema = source.schema\n",
    "    sink_schema[\"properties\"][\"first_year\"] = \"int\"\n",
    "\n",
    "    with fiona.open(\n",
    "        \"../predictions/poultry_barns-64-200_predictions.geojson\",\n",
    "        \"w\",\n",
    "        crs=source.crs,\n",
    "        driver=\"GeoJSON\",\n",
    "        schema=sink_schema,\n",
    "    ) as sink:\n",
    "        for i, row in enumerate(source):\n",
    "            row[\"properties\"][\"first_year\"] = int(all_predicted_years[i])\n",
    "            sink.write(row)"
   ]
  },
  {
   "cell_type": "code",
   "execution_count": 8,
   "id": "declared-variety",
   "metadata": {},
   "outputs": [],
   "source": [
    "for i, year in enumerate(years):\n",
    "    with fiona.open(\"../data/Delmarva_PL_House_Final2_epsg26918.geojson\", \"r\") as source:\n",
    "\n",
    "        sink_schema = source.schema\n",
    "\n",
    "        with fiona.open(\n",
    "            \"../predictions/poultry_barns-64-200_predictions_%d.geojson\" % (year),\n",
    "            \"w\",\n",
    "            crs=source.crs,\n",
    "            driver=\"GeoJSON\",\n",
    "            schema=sink_schema,\n",
    "        ) as sink:\n",
    "            for j, row in enumerate(source):\n",
    "                if j in idxs_per_year[i]:\n",
    "                    sink.write(row)"
   ]
  }
 ],
 "metadata": {
  "kernelspec": {
   "display_name": "backdating",
   "language": "python",
   "name": "conda-env-backdating-py"
  },
  "language_info": {
   "codemirror_mode": {
    "name": "ipython",
    "version": 3
   },
   "file_extension": ".py",
   "mimetype": "text/x-python",
   "name": "python",
   "nbconvert_exporter": "python",
   "pygments_lexer": "ipython3",
   "version": "3.7.7"
  }
 },
 "nbformat": 4,
 "nbformat_minor": 5
}
