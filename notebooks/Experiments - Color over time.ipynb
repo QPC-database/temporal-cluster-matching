{
 "cells": [
  {
   "cell_type": "code",
   "execution_count": 1,
   "id": "right-rates",
   "metadata": {},
   "outputs": [],
   "source": [
    "# Copyright (c) Microsoft Corporation. All rights reserved\n",
    "# Licensed under the MIT License.\n",
    "%matplotlib inline\n",
    "%load_ext autoreload\n",
    "%autoreload 2\n",
    "import sys\n",
    "sys.path.append(\"..\")\n",
    "\n",
    "import numpy as np\n",
    "import matplotlib.pyplot as plt\n",
    "\n",
    "from sklearn.metrics import accuracy_score, mean_absolute_error\n",
    "from sklearn.model_selection import train_test_split\n",
    "from sklearn.linear_model import LogisticRegression, LinearRegression\n",
    "from sklearn.preprocessing import StandardScaler\n",
    "\n",
    "from temporal_cluster_matching import utils, DataInterface, algorithms"
   ]
  },
  {
   "cell_type": "markdown",
   "id": "stupid-failing",
   "metadata": {},
   "source": [
    "## NAIP / Poultry barn data"
   ]
  },
  {
   "cell_type": "code",
   "execution_count": 2,
   "id": "negative-circuit",
   "metadata": {},
   "outputs": [
    {
     "data": {
      "text/plain": [
       "6013"
      ]
     },
     "execution_count": 2,
     "metadata": {},
     "output_type": "execute_result"
    }
   ],
   "source": [
    "geoms = utils.get_poultry_barn_geoms(\"../data/\")\n",
    "len(geoms)"
   ]
  },
  {
   "cell_type": "code",
   "execution_count": 3,
   "id": "organizational-truth",
   "metadata": {},
   "outputs": [],
   "source": [
    "dataloader = DataInterface.NAIPDataLoader()"
   ]
  },
  {
   "cell_type": "code",
   "execution_count": null,
   "id": "divided-hawaiian",
   "metadata": {
    "scrolled": true
   },
   "outputs": [],
   "source": [
    "all_distances = []\n",
    "for i, geom in enumerate(geoms):\n",
    "    if i % 100 == 0:\n",
    "        print(i, len(geoms))\n",
    "    data_images, masks, years = dataloader.get_data_stack_from_geom(geom, buffer=0)\n",
    "    \n",
    "    previous_year_footprint_color = None\n",
    "    distances = [None]\n",
    "    for image, mask in zip(data_images, masks):\n",
    "        \n",
    "        average_footprint_color = image[mask==1].mean(axis=0)\n",
    "        if previous_year_footprint_color is not None:\n",
    "            distances.append(np.linalg.norm(\n",
    "                previous_year_footprint_color - average_footprint_color\n",
    "            ))\n",
    "        previous_year_footprint_color = average_footprint_color\n",
    "        \n",
    "    all_distances.append(distances)\n",
    "    \n",
    "## One of the geoms only intersects with 4 years\n",
    "for i, distances in enumerate(all_distances):\n",
    "    if len(distances) == 3:\n",
    "        all_distances[i] = [0] + distances\n",
    "        \n",
    "all_distances = np.array(all_distances)\n",
    "np.save(\"../results/poultry_barn_inter_year_color_distances.npy\", all_distances)"
   ]
  },
  {
   "cell_type": "code",
   "execution_count": 5,
   "id": "accepting-referral",
   "metadata": {},
   "outputs": [],
   "source": [
    "all_distances = np.load(\"../results/poultry_barn_inter_year_color_distances.npy\")"
   ]
  },
  {
   "cell_type": "code",
   "execution_count": 6,
   "id": "awful-baker",
   "metadata": {},
   "outputs": [],
   "source": [
    "labeled_idxs, labeled_years = utils.get_poultry_barn_labels(\"../data/\")"
   ]
  },
  {
   "cell_type": "code",
   "execution_count": 7,
   "id": "southwest-somerset",
   "metadata": {},
   "outputs": [],
   "source": [
    "x_all = []\n",
    "y_all = []\n",
    "\n",
    "for idx, year in zip(labeled_idxs, labeled_years):\n",
    "    x_all.append(all_distances[idx])\n",
    "    y_all.append(year)\n",
    "    \n",
    "x_all = np.array(x_all)\n",
    "y_all = np.array(y_all)"
   ]
  },
  {
   "cell_type": "code",
   "execution_count": 8,
   "id": "architectural-universe",
   "metadata": {},
   "outputs": [
    {
     "name": "stdout",
     "output_type": "stream",
     "text": [
      "0.9075 0.017557049866079442\n",
      "0.39289999999999997 0.08057971208685223\n"
     ]
    }
   ],
   "source": [
    "accs = []\n",
    "maes = []\n",
    "for repeat in range(50):\n",
    "    \n",
    "    x_train, x_test, y_train, y_test = train_test_split(\n",
    "        x_all, y_all, test_size=0.2\n",
    "    )\n",
    "    \n",
    "    scaler = StandardScaler()\n",
    "    x_train = scaler.fit_transform(x_train)\n",
    "    x_test = scaler.transform(x_test)\n",
    "    \n",
    "    model = LogisticRegression()\n",
    "    model.fit(x_train, y_train)\n",
    "    y_pred = model.predict(x_test)\n",
    "    y_pred = np.round(y_pred).astype(int)\n",
    "    \n",
    "    acc = accuracy_score(y_test, y_pred)\n",
    "    mae = mean_absolute_error(y_test, y_pred)\n",
    "    \n",
    "    accs.append(acc)\n",
    "    maes.append(mae)\n",
    "    \n",
    "print(np.mean(accs), np.std(accs))\n",
    "print(np.mean(maes), np.std(maes))"
   ]
  },
  {
   "cell_type": "markdown",
   "id": "provincial-classroom",
   "metadata": {},
   "source": [
    "## S2 / Solar farm data"
   ]
  },
  {
   "cell_type": "code",
   "execution_count": 9,
   "id": "terminal-punishment",
   "metadata": {},
   "outputs": [
    {
     "data": {
      "text/plain": [
       "935"
      ]
     },
     "execution_count": 9,
     "metadata": {},
     "output_type": "execute_result"
    }
   ],
   "source": [
    "geoms = utils.get_solar_farm_geoms(\"../data/\")\n",
    "len(geoms)"
   ]
  },
  {
   "cell_type": "code",
   "execution_count": 10,
   "id": "traditional-hepatitis",
   "metadata": {},
   "outputs": [],
   "source": [
    "dataloader = DataInterface.S2DataLoader()"
   ]
  },
  {
   "cell_type": "code",
   "execution_count": null,
   "id": "opponent-theorem",
   "metadata": {},
   "outputs": [],
   "source": [
    "all_distances = []\n",
    "for i, geom in enumerate(geoms):\n",
    "    if i % 10 == 0:\n",
    "        print(i, len(geoms))\n",
    "        \n",
    "    data_images, masks, years = dataloader.get_data_stack_from_geom(geom, buffer=0.004)\n",
    "    \n",
    "    previous_year_footprint_color = None\n",
    "    distances = []\n",
    "    for image, mask in zip(data_images, masks):\n",
    "        image = image[:,:,:12]\n",
    "        if image.shape[0] == mask.shape[0] and image.shape[1] == mask.shape[1]:        \n",
    "            average_footprint_color = image[mask==1].mean(axis=0)\n",
    "            if previous_year_footprint_color is not None:\n",
    "                distances.append(np.linalg.norm(\n",
    "                    previous_year_footprint_color - average_footprint_color\n",
    "                ))\n",
    "            previous_year_footprint_color = average_footprint_color\n",
    "        else:\n",
    "            distances = [0,0,0,0]\n",
    "            break\n",
    "            \n",
    "    all_distances.append(distances)\n",
    "    \n",
    "all_distances = np.array(all_distances)\n",
    "np.save(\"../results/solar_farm_inter_year_color_distances.npy\", all_distances)"
   ]
  },
  {
   "cell_type": "code",
   "execution_count": 11,
   "id": "greenhouse-divorce",
   "metadata": {},
   "outputs": [],
   "source": [
    "all_distances = np.load(\"../results/solar_farm_inter_year_color_distances.npy\")"
   ]
  },
  {
   "cell_type": "code",
   "execution_count": 13,
   "id": "medium-trouble",
   "metadata": {},
   "outputs": [],
   "source": [
    "labeled_idxs, labeled_years = utils.get_solar_farm_labels(\"../data/\")"
   ]
  },
  {
   "cell_type": "code",
   "execution_count": 18,
   "id": "infrared-carolina",
   "metadata": {},
   "outputs": [],
   "source": [
    "x_all = []\n",
    "y_all = []\n",
    "\n",
    "for idx, year in zip(labeled_idxs, labeled_years):\n",
    "    if year != -1:\n",
    "        x_all.append(all_distances[idx])\n",
    "        y_all.append(year)\n",
    "    \n",
    "x_all = np.array(x_all)\n",
    "y_all = np.array(y_all)"
   ]
  },
  {
   "cell_type": "code",
   "execution_count": 19,
   "id": "gross-astrology",
   "metadata": {},
   "outputs": [],
   "source": [
    "mask = y_all != -1\n",
    "x_all = x_all[mask]\n",
    "y_all = y_all[mask]\n",
    "\n",
    "x_all[np.isnan(x_all)] = 0"
   ]
  },
  {
   "cell_type": "code",
   "execution_count": 22,
   "id": "yellow-headline",
   "metadata": {},
   "outputs": [
    {
     "name": "stdout",
     "output_type": "stream",
     "text": [
      "0.7907565789473685 0.01304345795255656\n",
      "0.28638157894736843 0.020847686652987744\n"
     ]
    }
   ],
   "source": [
    "accs = []\n",
    "maes = []\n",
    "for repeat in range(50):\n",
    "    \n",
    "    x_train, x_test, y_train, y_test = train_test_split(\n",
    "        x_all, y_all, test_size=0.8\n",
    "    )\n",
    "    \n",
    "    scaler = StandardScaler()\n",
    "    x_train = scaler.fit_transform(x_train)\n",
    "    x_test = scaler.transform(x_test)\n",
    "    \n",
    "    model = LogisticRegression()\n",
    "    model.fit(x_train, y_train)\n",
    "    y_pred = model.predict(x_test)\n",
    "    y_pred = np.round(y_pred).astype(int)\n",
    "    \n",
    "    mask = y_test != -1\n",
    "    acc = accuracy_score(y_test[mask], y_pred[mask])\n",
    "    mae = mean_absolute_error(y_test[mask], y_pred[mask])\n",
    "    \n",
    "    accs.append(acc)\n",
    "    maes.append(mae)\n",
    "    \n",
    "print(np.mean(accs), np.std(accs))\n",
    "print(np.mean(maes), np.std(maes))"
   ]
  },
  {
   "cell_type": "code",
   "execution_count": null,
   "id": "alone-modeling",
   "metadata": {},
   "outputs": [],
   "source": []
  }
 ],
 "metadata": {
  "kernelspec": {
   "display_name": "backdating",
   "language": "python",
   "name": "conda-env-backdating-py"
  },
  "language_info": {
   "codemirror_mode": {
    "name": "ipython",
    "version": 3
   },
   "file_extension": ".py",
   "mimetype": "text/x-python",
   "name": "python",
   "nbconvert_exporter": "python",
   "pygments_lexer": "ipython3",
   "version": "3.7.7"
  }
 },
 "nbformat": 4,
 "nbformat_minor": 5
}
