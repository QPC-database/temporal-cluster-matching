{
 "cells": [
  {
   "cell_type": "code",
   "execution_count": null,
   "id": "micro-spain",
   "metadata": {},
   "outputs": [],
   "source": [
    "# Copyright (c) Microsoft Corporation. All rights reserved\n",
    "# Licensed under the MIT License.\n",
    "%matplotlib inline\n",
    "%load_ext autoreload\n",
    "%autoreload 2\n",
    "import sys\n",
    "sys.path.append(\"..\")\n",
    "import os\n",
    "\n",
    "import numpy as np\n",
    "\n",
    "import shapely.geometry\n",
    "\n",
    "from pigeon import annotate\n",
    "\n",
    "from temporal_cluster_matching import utils, DataInterface, algorithms"
   ]
  },
  {
   "cell_type": "markdown",
   "id": "compact-rapid",
   "metadata": {},
   "source": [
    "## NAIP / Poultry barn labeling"
   ]
  },
  {
   "cell_type": "code",
   "execution_count": null,
   "id": "duplicate-herald",
   "metadata": {},
   "outputs": [],
   "source": [
    "OUTPUT_FN = \"../results/poultry_barn_labels2.csv\""
   ]
  },
  {
   "cell_type": "code",
   "execution_count": null,
   "id": "peaceful-paraguay",
   "metadata": {},
   "outputs": [],
   "source": [
    "geoms = utils.get_poultry_barn_geoms(\"../data/\")\n",
    "len(geoms)"
   ]
  },
  {
   "cell_type": "code",
   "execution_count": null,
   "id": "monetary-network",
   "metadata": {},
   "outputs": [],
   "source": [
    "dataloader = DataInterface.NAIPDataLoader()"
   ]
  },
  {
   "cell_type": "code",
   "execution_count": null,
   "id": "solved-plumbing",
   "metadata": {},
   "outputs": [],
   "source": [
    "used_idxs = set()\n",
    "if os.path.exists(OUTPUT_FN):\n",
    "    with open(OUTPUT_FN, \"r\") as f:\n",
    "        lines = f.read().strip().split(\"\\n\")\n",
    "        for i in range(1, len(lines)):\n",
    "            parts = lines[i].split(\",\")\n",
    "            idx = int(parts[0])\n",
    "            used_idxs.add(idx)\n",
    "available_idxs = list(set(range(len(geoms))) - used_idxs)\n",
    "\n",
    "print(\"Already labeled %d idxs, choosing from %d remaining\" % (len(used_idxs), len(available_idxs)))\n",
    "\n",
    "num_to_label = 5\n",
    "idxs = np.random.choice(available_idxs, size=num_to_label, replace=False)"
   ]
  },
  {
   "cell_type": "code",
   "execution_count": null,
   "id": "reserved-metabolism",
   "metadata": {
    "scrolled": true
   },
   "outputs": [],
   "source": [
    "def show_idx(i):\n",
    "    print(\"Labeling %d\" % (i))\n",
    "    shape_area = shapely.geometry.shape(geoms[i]).area\n",
    "    side_length = np.sqrt(shape_area)\n",
    "\n",
    "    buffer_size = max(side_length * 2, 0.001)\n",
    "\n",
    "    rgb_images, years = dataloader.get_rgb_stack_from_geom(geoms[i], buffer=buffer_size)\n",
    "    years = [\n",
    "        \"%d; %d\" % (j, year)\n",
    "        for j, year in enumerate(years)\n",
    "    ]\n",
    "    utils.show_images(rgb_images, years)\n",
    "    \n",
    "annotations = annotate(\n",
    "    idxs,\n",
    "    options=[str(i) for i in range(5)],\n",
    "    display_fn=lambda i: show_idx(i)\n",
    ")"
   ]
  },
  {
   "cell_type": "code",
   "execution_count": null,
   "id": "temporal-agenda",
   "metadata": {},
   "outputs": [],
   "source": [
    "if not os.path.exists(OUTPUT_FN):\n",
    "    with open(OUTPUT_FN, \"w\") as f:\n",
    "        f.write(\"idx,year\\n\")\n",
    "    \n",
    "with open(OUTPUT_FN, \"a\") as f:\n",
    "    for idx, label in annotations:\n",
    "        years = dataloader.get_years_from_geom(geoms[idx])\n",
    "        label = int(label)\n",
    "        year = years[label]\n",
    "        f.write(\"%d,%d\\n\" % (idx, year))"
   ]
  },
  {
   "cell_type": "markdown",
   "id": "legendary-croatia",
   "metadata": {},
   "source": [
    "## Sentinel 2 / Solar farm labeling"
   ]
  },
  {
   "cell_type": "code",
   "execution_count": null,
   "id": "rental-feeding",
   "metadata": {},
   "outputs": [],
   "source": [
    "OUTPUT_FN = \"../results/solar_farm_labels.csv\""
   ]
  },
  {
   "cell_type": "code",
   "execution_count": null,
   "id": "enabling-catering",
   "metadata": {},
   "outputs": [],
   "source": [
    "geoms = utils.get_solar_farm_geoms(\"../data/\")\n",
    "len(geoms)"
   ]
  },
  {
   "cell_type": "code",
   "execution_count": null,
   "id": "young-perry",
   "metadata": {},
   "outputs": [],
   "source": [
    "dataloader = DataInterface.S2DataLoader()"
   ]
  },
  {
   "cell_type": "code",
   "execution_count": null,
   "id": "embedded-bicycle",
   "metadata": {},
   "outputs": [],
   "source": [
    "used_idxs = set()\n",
    "if os.path.exists(OUTPUT_FN):\n",
    "    with open(OUTPUT_FN, \"r\") as f:\n",
    "        lines = f.read().strip().split(\"\\n\")\n",
    "        for i in range(1, len(lines)):\n",
    "            parts = lines[i].split(\",\")\n",
    "            idx = int(parts[0])\n",
    "            used_idxs.add(idx)\n",
    "available_idxs = list(set(range(len(geoms))) - used_idxs)\n",
    "\n",
    "print(\"Already labeled %d idxs, choosing from %d remaining\" % (len(used_idxs), len(available_idxs)))\n",
    "\n",
    "num_to_label = 50\n",
    "idxs = np.random.choice(available_idxs, size=num_to_label, replace=False)"
   ]
  },
  {
   "cell_type": "code",
   "execution_count": null,
   "id": "superior-sperm",
   "metadata": {},
   "outputs": [],
   "source": [
    "idxs = range(935)"
   ]
  },
  {
   "cell_type": "code",
   "execution_count": null,
   "id": "treated-height",
   "metadata": {},
   "outputs": [],
   "source": [
    "images = []\n",
    "for i in idxs:\n",
    "    if i % 50 == 0:\n",
    "        print(i, len(idxs))\n",
    "    rgb_images, years = dataloader.get_rgb_stack_from_geom(geoms[i], buffer=0.002)\n",
    "    images.append(rgb_images)"
   ]
  },
  {
   "cell_type": "code",
   "execution_count": null,
   "id": "smoking-cathedral",
   "metadata": {},
   "outputs": [],
   "source": [
    "titles = [\n",
    "    \"%d, %d\" % (i + 2016, i)\n",
    "    for i in range(5)\n",
    "]"
   ]
  },
  {
   "cell_type": "code",
   "execution_count": null,
   "id": "metric-avenue",
   "metadata": {},
   "outputs": [],
   "source": [
    "def show_idx(i):\n",
    "    print(\"Labeling %d\" % (i))\n",
    "    #shape_area = shapely.geometry.shape(geoms[i]).area\n",
    "    #side_length = np.sqrt(shape_area)\n",
    "\n",
    "    #buffer_size = max(side_length * 1.5, 0.001)\n",
    "    #buffer_size = 0.002\n",
    "\n",
    "    #rgb_images, years = dataloader.get_rgb_stack_from_geom(geoms[i], buffer=buffer_size)\n",
    "    \n",
    "    #titles = []\n",
    "    #for i, year in enumerate(years):\n",
    "    #    titles.append(\"%d, %d\" % (year, i))\n",
    "    \n",
    "    utils.show_images(images[i], titles)\n",
    "    \n",
    "annotations = annotate(\n",
    "    idxs,\n",
    "    options=[str(i) for i in range(5)],\n",
    "    display_fn=lambda i: show_idx(i)\n",
    ")"
   ]
  },
  {
   "cell_type": "code",
   "execution_count": null,
   "id": "fresh-anaheim",
   "metadata": {},
   "outputs": [],
   "source": [
    "if not os.path.exists(OUTPUT_FN):\n",
    "    with open(OUTPUT_FN, \"w\") as f:\n",
    "        f.write(\"idx,year\\n\")\n",
    "    \n",
    "with open(OUTPUT_FN, \"a\") as f:\n",
    "    for idx, label in annotations:\n",
    "        years = dataloader.get_years_from_geom(geoms[idx])\n",
    "        label = int(label)\n",
    "        year = years[label]\n",
    "        f.write(\"%d,%d\\n\" % (idx, year))"
   ]
  }
 ],
 "metadata": {
  "kernelspec": {
   "display_name": "backdating",
   "language": "python",
   "name": "conda-env-backdating-py"
  },
  "language_info": {
   "codemirror_mode": {
    "name": "ipython",
    "version": 3
   },
   "file_extension": ".py",
   "mimetype": "text/x-python",
   "name": "python",
   "nbconvert_exporter": "python",
   "pygments_lexer": "ipython3",
   "version": "3.7.7"
  }
 },
 "nbformat": 4,
 "nbformat_minor": 5
}
