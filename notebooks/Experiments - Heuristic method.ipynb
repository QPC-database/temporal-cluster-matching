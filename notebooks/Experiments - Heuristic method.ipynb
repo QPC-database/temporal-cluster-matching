{
 "cells": [
  {
   "cell_type": "code",
   "execution_count": 1,
   "id": "sweet-apparatus",
   "metadata": {},
   "outputs": [],
   "source": [
    "# Copyright (c) Microsoft Corporation. All rights reserved\n",
    "# Licensed under the MIT License.\n",
    "%matplotlib inline\n",
    "%load_ext autoreload\n",
    "%autoreload 2\n",
    "import sys\n",
    "sys.path.append(\"..\")\n",
    "import os\n",
    "import time\n",
    "import itertools\n",
    "\n",
    "import numpy as np\n",
    "import pandas as pd\n",
    "import matplotlib as mpl\n",
    "import matplotlib.pyplot as plt\n",
    "import scipy.optimize\n",
    "\n",
    "import shapely.geometry\n",
    "import fiona.transform\n",
    "import utm\n",
    "\n",
    "from sklearn.metrics import accuracy_score, mean_absolute_error\n",
    "from sklearn.model_selection import train_test_split\n",
    "from sklearn.preprocessing import StandardScaler\n",
    "from sklearn.linear_model import LogisticRegression\n",
    "\n",
    "from temporal_cluster_matching import utils, DataInterface, algorithms"
   ]
  },
  {
   "cell_type": "code",
   "execution_count": 2,
   "id": "polar-brief",
   "metadata": {},
   "outputs": [],
   "source": [
    "def show_two_results(hist1, hist2, bins, label1, label2, title, color1=\"#1f77b4\", xlabel=\"KL divergence\"):\n",
    "    \n",
    "    bin_width = bins[1] - bins[0]\n",
    "    \n",
    "    \n",
    "    plt.figure()\n",
    "    plt.bar(bins[:-1], hist1, width=bin_width, alpha=0.5, label=label1, color=color1)\n",
    "    plt.bar(bins[:-1], hist2, width=bin_width, alpha=0.5, label=label2, color=\"#ff7f0e\")\n",
    "    plt.legend(loc=\"upper right\", fontsize=15)\n",
    "    plt.xlabel(xlabel, fontsize=15)\n",
    "    plt.ylabel(\"Relative frequency\", fontsize=15)\n",
    "    plt.title(title, fontsize=15)\n",
    "    plt.xticks(fontsize=13)\n",
    "    plt.yticks(fontsize=13)\n",
    "    plt.ylim([0,0.084])\n",
    "    plt.show()\n",
    "    plt.close()"
   ]
  },
  {
   "cell_type": "code",
   "execution_count": 3,
   "id": "seeing-links",
   "metadata": {},
   "outputs": [
    {
     "data": {
      "image/png": "[encoded data removed]",
      "text/plain": [
       "<Figure size 288x180 with 1 Axes>"
      ]
     },
     "metadata": {
      "needs_background": "light"
     },
     "output_type": "display_data"
    }
   ],
   "source": [
    "labels = ['2011 footprints', '2016/2017 footprints', 'Random footprints']\n",
    "colors = ['#1f77b4', '#ff7f0e', 'green']\n",
    "plt.figure(figsize=(4, 2.5))\n",
    "patches = [\n",
    "    mpl.patches.Patch(color=color, label=label)\n",
    "    for label, color in zip(labels, colors)\n",
    "]\n",
    "plt.axis(\"off\")\n",
    "plt.legend(patches, labels, loc='center', frameon=False, fontsize=18)\n",
    "plt.show()\n",
    "plt.close()"
   ]
  },
  {
   "cell_type": "markdown",
   "id": "varying-spring",
   "metadata": {},
   "source": [
    "## NAIP / Poultry barns"
   ]
  },
  {
   "cell_type": "code",
   "execution_count": 4,
   "id": "soviet-assembly",
   "metadata": {},
   "outputs": [],
   "source": [
    "directories = [\n",
    "    fn\n",
    "    for fn in os.listdir(\"../results/kl/\")\n",
    "    if fn.startswith(\"poultry_barns_random\") and not os.path.isfile(os.path.join(\"../results/\", fn))\n",
    "]"
   ]
  },
  {
   "cell_type": "code",
   "execution_count": 5,
   "id": "supported-advice",
   "metadata": {},
   "outputs": [],
   "source": [
    "labeled_idxs, labeled_years = utils.get_poultry_barn_labels(\"../data/\")"
   ]
  },
  {
   "cell_type": "code",
   "execution_count": 8,
   "id": "capable-blond",
   "metadata": {},
   "outputs": [],
   "source": [
    "results = {\n",
    "    \"method\": [],\n",
    "    \"dataset\": [],\n",
    "    \"num_clusters\": [],\n",
    "    \"buffer\": [],\n",
    "    \"mae\": [],\n",
    "    \"acc\": [],\n",
    "    \"bc_coefficient\": [],\n",
    "    \"theta\": []\n",
    "}"
   ]
  },
  {
   "cell_type": "markdown",
   "id": "greater-trance",
   "metadata": {},
   "source": [
    "### Figures that show distributions of KL divergences"
   ]
  },
  {
   "cell_type": "code",
   "execution_count": 9,
   "id": "dental-murray",
   "metadata": {
    "scrolled": false
   },
   "outputs": [],
   "source": [
    "bins = np.linspace(0,10,num=100)\n",
    "for directory in directories:\n",
    "    \n",
    "    random_dataset, num_clusters, buffer = directory.split(\"-\")\n",
    "    num_clusters = int(num_clusters)\n",
    "    buffer = int(buffer)\n",
    "    \n",
    "    original_dataset = random_dataset.replace(\"_random\", \"\")\n",
    "    \n",
    "    random_fn = f\"../results/kl/{random_dataset}-{num_clusters}-{buffer}/results.csv\"\n",
    "    original_fn = f\"../results/kl/{original_dataset}-{num_clusters}-{buffer}/results.csv\"\n",
    "        \n",
    "    assert os.path.exists(random_fn) and os.path.exists(original_fn)\n",
    "        \n",
    "    _, random_all_years, random_all_distances = utils.get_results(random_fn)\n",
    "    _, original_all_years, original_all_distances = utils.get_results(original_fn)\n",
    "\n",
    "    distances1 = []\n",
    "    distances2 = []\n",
    "    distances3 = []\n",
    "    for i in range(len(random_all_distances)):\n",
    "        distances1.extend(random_all_distances[i])\n",
    "        distances2.append(original_all_distances[i][3])\n",
    "        distances3.append(original_all_distances[i][0])\n",
    "        \n",
    "    distances1 = np.array(distances1)\n",
    "    distances2 = np.array(distances2)\n",
    "    distances3 = np.array(distances3)\n",
    "    distances1 = distances1[~np.isinf(distances1)]\n",
    "    distances2 = distances2[~np.isinf(distances2)]\n",
    "    distances3 = distances3[~np.isinf(distances3)]\n",
    "    \n",
    "    hist1, _ = np.histogram(distances1, bins=bins)\n",
    "    hist2, _ = np.histogram(distances2, bins=bins)\n",
    "    hist3, _ = np.histogram(distances3, bins=bins)\n",
    "    \n",
    "    hist1 = hist1 / hist1.sum()\n",
    "    hist2 = hist2 / hist2.sum()\n",
    "    hist3 = hist3 / hist3.sum()\n",
    "    \n",
    "    bc_coefficient = np.sum(np.sqrt(hist1 * hist2))\n",
    "    theta_estimate = np.percentile(distances1, 98)\n",
    "    \n",
    "    acc, mae = utils.loss_function(labeled_idxs, labeled_years, original_all_distances, original_all_years, theta_estimate, 2018)\n",
    "    \n",
    "    results[\"method\"].append(\"heuristic-theta\")\n",
    "    results[\"dataset\"].append(original_dataset)\n",
    "    results[\"num_clusters\"].append(num_clusters)\n",
    "    results[\"buffer\"].append(buffer)\n",
    "    results[\"acc\"].append(acc)\n",
    "    results[\"mae\"].append(mae)\n",
    "    results[\"bc_coefficient\"].append(bc_coefficient)\n",
    "    results[\"theta\"].append(theta_estimate)\n",
    "    \n",
    "    #print(num_clusters, buffer, bc_coefficient, theta_estimate, acc, mae)\n",
    "    #show_two_results(hist1, hist2, bins, \"Random footprints\", \"Poultry barn footprints\", color1=\"green\", title=None)\n",
    "    #show_two_results(hist3, hist2, bins, \"2011 footprints\", \"2016/2017 footprints\", color1=\"#1f77b4\", title=None)"
   ]
  },
  {
   "cell_type": "markdown",
   "id": "diagnostic-technology",
   "metadata": {},
   "source": [
    "# Sentinel 2 / Solar farms"
   ]
  },
  {
   "cell_type": "code",
   "execution_count": 10,
   "id": "frank-dryer",
   "metadata": {},
   "outputs": [],
   "source": [
    "directories = [\n",
    "    fn\n",
    "    for fn in os.listdir(\"../results/kl/\")\n",
    "    if fn.startswith(\"solar_farms_reduced_random\")\n",
    "]"
   ]
  },
  {
   "cell_type": "markdown",
   "id": "thrown-mailing",
   "metadata": {},
   "source": [
    "### Acc results from learning theta"
   ]
  },
  {
   "cell_type": "code",
   "execution_count": 11,
   "id": "average-center",
   "metadata": {},
   "outputs": [
    {
     "name": "stdout",
     "output_type": "stream",
     "text": [
      "(760,)\n"
     ]
    }
   ],
   "source": [
    "labeled_idxs, labeled_years = utils.get_solar_farm_labels(\"../data/\")\n",
    "labeled_idxs = np.array(labeled_idxs)\n",
    "labeled_years = np.array(labeled_years)\n",
    "mask = labeled_years != -1\n",
    "labeled_idxs = labeled_idxs[mask]\n",
    "labeled_years = labeled_years[mask]\n",
    "print(labeled_years.shape)"
   ]
  },
  {
   "cell_type": "markdown",
   "id": "specific-installation",
   "metadata": {},
   "source": [
    "### Figures that show distributions of KL divergences"
   ]
  },
  {
   "cell_type": "code",
   "execution_count": 12,
   "id": "human-breathing",
   "metadata": {
    "scrolled": false
   },
   "outputs": [],
   "source": [
    "bins = np.linspace(0,10,num=50)\n",
    "for directory in directories:\n",
    "    \n",
    "    random_dataset, num_clusters, buffer = directory.split(\"-\")\n",
    "    original_dataset = random_dataset.replace(\"_random\", \"\")\n",
    "    \n",
    "    random_fn = f\"../results/kl/{random_dataset}-{num_clusters}-{buffer}/results.csv\"\n",
    "    original_fn = f\"../results/kl/{original_dataset}-{num_clusters}-{buffer}/results.csv\"\n",
    "\n",
    "    assert os.path.exists(random_fn)\n",
    "    assert os.path.exists(original_fn), original_fn\n",
    "        \n",
    "    _, random_all_years, random_all_distances = utils.get_results(random_fn)\n",
    "    _, original_all_years, original_all_distances = utils.get_results(original_fn)\n",
    "\n",
    "    distances1 = []\n",
    "    distances2 = []\n",
    "    distances3 = []\n",
    "    for i in range(len(random_all_distances)):\n",
    "        distances1.extend(random_all_distances[i])\n",
    "        distances2.append(original_all_distances[i][3])\n",
    "        distances3.append(original_all_distances[i][0])\n",
    "        \n",
    "    distances1 = np.array(distances1)\n",
    "    distances2 = np.array(distances2)\n",
    "    distances3 = np.array(distances3)\n",
    "    distances1 = distances1[~np.isinf(distances1)]\n",
    "    distances2 = distances2[~np.isinf(distances2)]\n",
    "    distances3 = distances3[~np.isinf(distances3)]\n",
    "    \n",
    "    hist1, _ = np.histogram(distances1, bins=bins)\n",
    "    hist2, _ = np.histogram(distances2, bins=bins)\n",
    "    hist3, _ = np.histogram(distances3, bins=bins)\n",
    "    \n",
    "    hist1 = hist1 / hist1.sum()\n",
    "    hist2 = hist2 / hist2.sum()\n",
    "    hist3 = hist3 / hist3.sum()\n",
    "    \n",
    "    bc_coefficient = np.sum(np.sqrt(hist1 * hist2))\n",
    "    theta_estimate = np.percentile(distances1, 98)\n",
    "    \n",
    "    acc, mae = utils.loss_function(labeled_idxs, labeled_years, original_all_distances, original_all_years, theta_estimate, 2020)\n",
    "    \n",
    "    results[\"method\"].append(\"heuristic-theta\")\n",
    "    results[\"dataset\"].append(original_dataset)\n",
    "    results[\"num_clusters\"].append(num_clusters)\n",
    "    results[\"buffer\"].append(buffer)\n",
    "    results[\"acc\"].append(acc)\n",
    "    results[\"mae\"].append(mae)\n",
    "    results[\"bc_coefficient\"].append(bc_coefficient)\n",
    "    results[\"theta\"].append(theta_estimate)\n",
    "    \n",
    "    #print(num_clusters, buffer, bc_coefficient, theta_estimate, acc, mae)\n",
    "    #show_two_results(hist1, hist2, bins, \"Random footprints\", \"Solar farm footprints\", color1=\"green\", title=None)\n",
    "    #show_two_results(hist3, hist2, bins, \"2016 footprints\", \"2020 footprints\", color1=\"#1f77b4\", title=None)"
   ]
  },
  {
   "cell_type": "code",
   "execution_count": 13,
   "id": "tight-advice",
   "metadata": {},
   "outputs": [],
   "source": [
    "df = pd.DataFrame.from_dict(results)"
   ]
  },
  {
   "cell_type": "code",
   "execution_count": 14,
   "id": "becoming-interval",
   "metadata": {},
   "outputs": [
    {
     "data": {
      "text/html": [
       "<div>\n",
       "<style scoped>\n",
       "    .dataframe tbody tr th:only-of-type {\n",
       "        vertical-align: middle;\n",
       "    }\n",
       "\n",
       "    .dataframe tbody tr th {\n",
       "        vertical-align: top;\n",
       "    }\n",
       "\n",
       "    .dataframe thead th {\n",
       "        text-align: right;\n",
       "    }\n",
       "</style>\n",
       "<table border=\"1\" class=\"dataframe\">\n",
       "  <thead>\n",
       "    <tr style=\"text-align: right;\">\n",
       "      <th></th>\n",
       "      <th>method</th>\n",
       "      <th>dataset</th>\n",
       "      <th>num_clusters</th>\n",
       "      <th>buffer</th>\n",
       "      <th>mae</th>\n",
       "      <th>acc</th>\n",
       "      <th>bc_coefficient</th>\n",
       "      <th>theta</th>\n",
       "    </tr>\n",
       "  </thead>\n",
       "  <tbody>\n",
       "    <tr>\n",
       "      <th>0</th>\n",
       "      <td>heuristic-theta</td>\n",
       "      <td>poultry_barns</td>\n",
       "      <td>16</td>\n",
       "      <td>100</td>\n",
       "      <td>0.163000</td>\n",
       "      <td>0.924000</td>\n",
       "      <td>0.084120</td>\n",
       "      <td>1.213688</td>\n",
       "    </tr>\n",
       "    <tr>\n",
       "      <th>1</th>\n",
       "      <td>heuristic-theta</td>\n",
       "      <td>poultry_barns</td>\n",
       "      <td>64</td>\n",
       "      <td>200</td>\n",
       "      <td>0.154000</td>\n",
       "      <td>0.936000</td>\n",
       "      <td>0.071000</td>\n",
       "      <td>1.931520</td>\n",
       "    </tr>\n",
       "    <tr>\n",
       "      <th>2</th>\n",
       "      <td>heuristic-theta</td>\n",
       "      <td>poultry_barns</td>\n",
       "      <td>32</td>\n",
       "      <td>200</td>\n",
       "      <td>0.170000</td>\n",
       "      <td>0.930000</td>\n",
       "      <td>0.080443</td>\n",
       "      <td>1.756256</td>\n",
       "    </tr>\n",
       "    <tr>\n",
       "      <th>3</th>\n",
       "      <td>heuristic-theta</td>\n",
       "      <td>poultry_barns</td>\n",
       "      <td>32</td>\n",
       "      <td>400</td>\n",
       "      <td>0.236000</td>\n",
       "      <td>0.897000</td>\n",
       "      <td>0.093505</td>\n",
       "      <td>2.230692</td>\n",
       "    </tr>\n",
       "    <tr>\n",
       "      <th>4</th>\n",
       "      <td>heuristic-theta</td>\n",
       "      <td>poultry_barns</td>\n",
       "      <td>64</td>\n",
       "      <td>400</td>\n",
       "      <td>0.204000</td>\n",
       "      <td>0.922000</td>\n",
       "      <td>0.072066</td>\n",
       "      <td>2.401980</td>\n",
       "    </tr>\n",
       "    <tr>\n",
       "      <th>5</th>\n",
       "      <td>heuristic-theta</td>\n",
       "      <td>poultry_barns</td>\n",
       "      <td>64</td>\n",
       "      <td>100</td>\n",
       "      <td>0.172000</td>\n",
       "      <td>0.933000</td>\n",
       "      <td>0.083632</td>\n",
       "      <td>1.513780</td>\n",
       "    </tr>\n",
       "    <tr>\n",
       "      <th>6</th>\n",
       "      <td>heuristic-theta</td>\n",
       "      <td>poultry_barns</td>\n",
       "      <td>32</td>\n",
       "      <td>100</td>\n",
       "      <td>0.172000</td>\n",
       "      <td>0.928000</td>\n",
       "      <td>0.079752</td>\n",
       "      <td>1.372300</td>\n",
       "    </tr>\n",
       "    <tr>\n",
       "      <th>7</th>\n",
       "      <td>heuristic-theta</td>\n",
       "      <td>poultry_barns</td>\n",
       "      <td>16</td>\n",
       "      <td>200</td>\n",
       "      <td>0.218000</td>\n",
       "      <td>0.903000</td>\n",
       "      <td>0.091819</td>\n",
       "      <td>1.570992</td>\n",
       "    </tr>\n",
       "    <tr>\n",
       "      <th>8</th>\n",
       "      <td>heuristic-theta</td>\n",
       "      <td>poultry_barns</td>\n",
       "      <td>16</td>\n",
       "      <td>400</td>\n",
       "      <td>0.385000</td>\n",
       "      <td>0.829000</td>\n",
       "      <td>0.112777</td>\n",
       "      <td>1.953870</td>\n",
       "    </tr>\n",
       "    <tr>\n",
       "      <th>9</th>\n",
       "      <td>heuristic-theta</td>\n",
       "      <td>solar_farms_reduced</td>\n",
       "      <td>32</td>\n",
       "      <td>0.016</td>\n",
       "      <td>0.498684</td>\n",
       "      <td>0.689474</td>\n",
       "      <td>0.520333</td>\n",
       "      <td>2.413244</td>\n",
       "    </tr>\n",
       "    <tr>\n",
       "      <th>10</th>\n",
       "      <td>heuristic-theta</td>\n",
       "      <td>solar_farms_reduced</td>\n",
       "      <td>64</td>\n",
       "      <td>0.016</td>\n",
       "      <td>0.518421</td>\n",
       "      <td>0.688158</td>\n",
       "      <td>0.526163</td>\n",
       "      <td>2.763796</td>\n",
       "    </tr>\n",
       "    <tr>\n",
       "      <th>11</th>\n",
       "      <td>heuristic-theta</td>\n",
       "      <td>solar_farms_reduced</td>\n",
       "      <td>16</td>\n",
       "      <td>0.016</td>\n",
       "      <td>0.626316</td>\n",
       "      <td>0.627632</td>\n",
       "      <td>0.557788</td>\n",
       "      <td>2.109168</td>\n",
       "    </tr>\n",
       "    <tr>\n",
       "      <th>12</th>\n",
       "      <td>heuristic-theta</td>\n",
       "      <td>solar_farms_reduced</td>\n",
       "      <td>64</td>\n",
       "      <td>0.024</td>\n",
       "      <td>0.486842</td>\n",
       "      <td>0.707895</td>\n",
       "      <td>0.502970</td>\n",
       "      <td>2.861806</td>\n",
       "    </tr>\n",
       "    <tr>\n",
       "      <th>13</th>\n",
       "      <td>heuristic-theta</td>\n",
       "      <td>solar_farms_reduced</td>\n",
       "      <td>16</td>\n",
       "      <td>0.024</td>\n",
       "      <td>0.747368</td>\n",
       "      <td>0.565789</td>\n",
       "      <td>0.603527</td>\n",
       "      <td>2.143412</td>\n",
       "    </tr>\n",
       "    <tr>\n",
       "      <th>14</th>\n",
       "      <td>heuristic-theta</td>\n",
       "      <td>solar_farms_reduced</td>\n",
       "      <td>32</td>\n",
       "      <td>0.024</td>\n",
       "      <td>0.544737</td>\n",
       "      <td>0.664474</td>\n",
       "      <td>0.523265</td>\n",
       "      <td>2.528604</td>\n",
       "    </tr>\n",
       "  </tbody>\n",
       "</table>\n",
       "</div>"
      ],
      "text/plain": [
       "             method              dataset num_clusters buffer       mae  \\\n",
       "0   heuristic-theta        poultry_barns           16    100  0.163000   \n",
       "1   heuristic-theta        poultry_barns           64    200  0.154000   \n",
       "2   heuristic-theta        poultry_barns           32    200  0.170000   \n",
       "3   heuristic-theta        poultry_barns           32    400  0.236000   \n",
       "4   heuristic-theta        poultry_barns           64    400  0.204000   \n",
       "5   heuristic-theta        poultry_barns           64    100  0.172000   \n",
       "6   heuristic-theta        poultry_barns           32    100  0.172000   \n",
       "7   heuristic-theta        poultry_barns           16    200  0.218000   \n",
       "8   heuristic-theta        poultry_barns           16    400  0.385000   \n",
       "9   heuristic-theta  solar_farms_reduced           32  0.016  0.498684   \n",
       "10  heuristic-theta  solar_farms_reduced           64  0.016  0.518421   \n",
       "11  heuristic-theta  solar_farms_reduced           16  0.016  0.626316   \n",
       "12  heuristic-theta  solar_farms_reduced           64  0.024  0.486842   \n",
       "13  heuristic-theta  solar_farms_reduced           16  0.024  0.747368   \n",
       "14  heuristic-theta  solar_farms_reduced           32  0.024  0.544737   \n",
       "\n",
       "         acc  bc_coefficient     theta  \n",
       "0   0.924000        0.084120  1.213688  \n",
       "1   0.936000        0.071000  1.931520  \n",
       "2   0.930000        0.080443  1.756256  \n",
       "3   0.897000        0.093505  2.230692  \n",
       "4   0.922000        0.072066  2.401980  \n",
       "5   0.933000        0.083632  1.513780  \n",
       "6   0.928000        0.079752  1.372300  \n",
       "7   0.903000        0.091819  1.570992  \n",
       "8   0.829000        0.112777  1.953870  \n",
       "9   0.689474        0.520333  2.413244  \n",
       "10  0.688158        0.526163  2.763796  \n",
       "11  0.627632        0.557788  2.109168  \n",
       "12  0.707895        0.502970  2.861806  \n",
       "13  0.565789        0.603527  2.143412  \n",
       "14  0.664474        0.523265  2.528604  "
      ]
     },
     "execution_count": 14,
     "metadata": {},
     "output_type": "execute_result"
    }
   ],
   "source": [
    "df"
   ]
  },
  {
   "cell_type": "code",
   "execution_count": 15,
   "id": "humanitarian-blind",
   "metadata": {},
   "outputs": [],
   "source": [
    "df.to_csv(\"../results/heuristic-theta_results.csv\")"
   ]
  },
  {
   "cell_type": "markdown",
   "id": "talented-alloy",
   "metadata": {},
   "source": [
    "## Rank correlations"
   ]
  },
  {
   "cell_type": "code",
   "execution_count": 13,
   "id": "sound-simpson",
   "metadata": {},
   "outputs": [],
   "source": [
    "from scipy.stats import spearmanr"
   ]
  },
  {
   "cell_type": "code",
   "execution_count": 14,
   "id": "molecular-northeast",
   "metadata": {},
   "outputs": [
    {
     "data": {
      "text/plain": [
       "SpearmanrResult(correlation=0.7666666666666667, pvalue=0.01594401657897401)"
      ]
     },
     "execution_count": 14,
     "metadata": {},
     "output_type": "execute_result"
    }
   ],
   "source": [
    "bc_coefficients, accs = df[df.dataset==\"poultry_barns\"][[\"bc_coefficient\", \"acc\"]].values.T\n",
    "spearmanr(-bc_coefficients, accs)"
   ]
  },
  {
   "cell_type": "code",
   "execution_count": 15,
   "id": "satisfied-rescue",
   "metadata": {},
   "outputs": [
    {
     "data": {
      "text/plain": [
       "SpearmanrResult(correlation=-0.7029350233548073, pvalue=0.03467010659432658)"
      ]
     },
     "execution_count": 15,
     "metadata": {},
     "output_type": "execute_result"
    }
   ],
   "source": [
    "bc_coefficients, maes = df[df.dataset==\"poultry_barns\"][[\"bc_coefficient\", \"mae\"]].values.T\n",
    "spearmanr(-bc_coefficients, maes)"
   ]
  },
  {
   "cell_type": "code",
   "execution_count": 16,
   "id": "miniature-correction",
   "metadata": {},
   "outputs": [
    {
     "data": {
      "text/plain": [
       "SpearmanrResult(correlation=0.942857142857143, pvalue=0.004804664723032055)"
      ]
     },
     "execution_count": 16,
     "metadata": {},
     "output_type": "execute_result"
    }
   ],
   "source": [
    "bc_coefficients, accs = df[df.dataset==\"solar_farms_reduced\"][[\"bc_coefficient\", \"acc\"]].values.T\n",
    "spearmanr(-bc_coefficients, accs)"
   ]
  },
  {
   "cell_type": "code",
   "execution_count": 17,
   "id": "homeless-hartford",
   "metadata": {},
   "outputs": [
    {
     "data": {
      "text/plain": [
       "SpearmanrResult(correlation=-0.942857142857143, pvalue=0.004804664723032055)"
      ]
     },
     "execution_count": 17,
     "metadata": {},
     "output_type": "execute_result"
    }
   ],
   "source": [
    "bc_coefficients, maes = df[df.dataset==\"solar_farms_reduced\"][[\"bc_coefficient\", \"mae\"]].values.T\n",
    "spearmanr(-bc_coefficients, maes)"
   ]
  }
 ],
 "metadata": {
  "kernelspec": {
   "display_name": "backdating",
   "language": "python",
   "name": "conda-env-backdating-py"
  },
  "language_info": {
   "codemirror_mode": {
    "name": "ipython",
    "version": 3
   },
   "file_extension": ".py",
   "mimetype": "text/x-python",
   "name": "python",
   "nbconvert_exporter": "python",
   "pygments_lexer": "ipython3",
   "version": "3.7.7"
  }
 },
 "nbformat": 4,
 "nbformat_minor": 5
}
