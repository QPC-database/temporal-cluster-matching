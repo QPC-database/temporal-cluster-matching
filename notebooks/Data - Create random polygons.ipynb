{
 "cells": [
  {
   "cell_type": "code",
   "execution_count": 1,
   "id": "handed-logistics",
   "metadata": {},
   "outputs": [],
   "source": [
    "# Copyright (c) Microsoft Corporation. All rights reserved\n",
    "# Licensed under the MIT License.\n",
    "%matplotlib inline\n",
    "%load_ext autoreload\n",
    "%autoreload 2\n",
    "import sys\n",
    "sys.path.append(\"..\")\n",
    "import os\n",
    "import time\n",
    "\n",
    "import numpy as np\n",
    "import matplotlib.pyplot as plt\n",
    "\n",
    "import rasterio\n",
    "from rasterio.windows import Window\n",
    "import shapely\n",
    "import shapely.geometry\n",
    "import fiona\n",
    "\n",
    "from temporal_cluster_matching import utils, DataInterface, algorithms"
   ]
  },
  {
   "cell_type": "markdown",
   "id": "composed-metropolitan",
   "metadata": {},
   "source": [
    "## NAIP"
   ]
  },
  {
   "cell_type": "code",
   "execution_count": 2,
   "id": "annual-prefix",
   "metadata": {},
   "outputs": [],
   "source": [
    "geoms = utils.get_poultry_barn_geoms(\"../data/\")\n",
    "\n",
    "areas = []\n",
    "for geom in geoms:\n",
    "    shape = shapely.geometry.shape(geom)\n",
    "    areas.append(shape.area)\n",
    "\n",
    "lengths = np.sqrt(areas)\n",
    "mean_length = np.mean(lengths)"
   ]
  },
  {
   "cell_type": "code",
   "execution_count": 4,
   "id": "intermediate-merchant",
   "metadata": {},
   "outputs": [
    {
     "data": {
      "text/plain": [
       "22.92778452118776"
      ]
     },
     "execution_count": 4,
     "metadata": {},
     "output_type": "execute_result"
    }
   ],
   "source": [
    "lengths.max()\n",
    "lengths.min()"
   ]
  },
  {
   "cell_type": "code",
   "execution_count": 5,
   "id": "miniature-european",
   "metadata": {},
   "outputs": [
    {
     "name": "stdout",
     "output_type": "stream",
     "text": [
      "{'properties': OrderedDict([('MINX', 'float'), ('MINY', 'float'), ('MAXX', 'float'), ('MAXY', 'float'), ('CNTX', 'float'), ('CNTY', 'float'), ('AREA', 'float'), ('PERIM', 'float'), ('HEIGHT', 'float'), ('WIDTH', 'float')]), 'geometry': 'Polygon'}\n"
     ]
    }
   ],
   "source": [
    "with fiona.open(\"../data/Delmarva_PL_House_Final2_extent_epsg26918.geojson\") as f:\n",
    "    extent_row = next(iter(f))\n",
    "    print(f.schema)"
   ]
  },
  {
   "cell_type": "code",
   "execution_count": 6,
   "id": "utility-teddy",
   "metadata": {},
   "outputs": [],
   "source": [
    "minx, miny, maxx, maxy = shapely.geometry.shape(extent_row[\"geometry\"]).bounds\n",
    "width = maxx-minx\n",
    "height = maxy-miny"
   ]
  },
  {
   "cell_type": "code",
   "execution_count": 7,
   "id": "considerable-camcorder",
   "metadata": {},
   "outputs": [],
   "source": [
    "with fiona.open(\"../data/delmarva_valid_naip_area.geojson\") as f:\n",
    "    valid_polygon = shapely.geometry.shape(next(iter(f))[\"geometry\"])"
   ]
  },
  {
   "cell_type": "code",
   "execution_count": 8,
   "id": "informed-crash",
   "metadata": {},
   "outputs": [
    {
     "data": {
      "image/svg+xml": [
       "<svg xmlns=\"http://www.w3.org/2000/svg\" xmlns:xlink=\"http://www.w3.org/1999/xlink\" width=\"300\" height=\"300\" viewBox=\"382095.664 4119425.264 122855.87200000003 270910.872\" preserveAspectRatio=\"xMinYMin meet\"><g transform=\"matrix(1,0,0,-1,0,8509761.4)\"><g><path fill-rule=\"evenodd\" fill=\"#66cc99\" stroke=\"#555555\" stroke-width=\"1806.0724799999998\" opacity=\"0.6\" d=\"M 439474.8,4136354.0 L 439474.8,4129516.2 L 439432.0,4129516.2 L 439432.0,4129460.0 L 439431.0,4129460.0 L 439431.0,4129459.0 L 433238.0,4129459.0 L 433238.0,4129501.0 L 427700.0,4129501.0 L 427700.0,4129546.0 L 422162.0,4129546.0 L 422162.0,4129595.0 L 416624.0,4129595.0 L 416624.0,4129649.0 L 411084.0,4129649.0 L 411084.0,4129705.0 L 405546.0,4129705.0 L 405546.0,4137306.0 L 411158.0,4137306.0 L 411158.0,4144180.0 L 411162.0,4144180.0 L 411162.0,4144231.8 L 411232.0,4144231.8 L 411232.0,4151114.0 L 411306.0,4151114.0 L 411306.0,4158048.0 L 411309.0,4158048.0 L 411309.0,4158100.2 L 411378.0,4158100.2 L 411378.0,4164982.0 L 416968.0,4164982.0 L 416968.0,4171860.0 L 417016.2,4171860.0 L 417016.2,4171911.6 L 422548.0,4171911.6 L 422548.0,4178134.0 L 417106.0,4178134.0 L 417106.0,4178188.0 L 411600.0,4178188.0 L 411600.0,4185178.0 L 406174.0,4185178.0 L 406174.0,4192780.0 L 406252.0,4192780.0 L 406252.0,4199716.0 L 406300.2,4199716.0 L 406300.2,4199767.2 L 406322.0,4199767.2 L 406322.0,4206658.0 L 406400.0,4206658.0 L 406400.0,4212968.0 L 401000.0,4212968.0 L 401000.0,4220596.0 L 401084.0,4220596.0 L 401084.0,4226906.0 L 395690.0,4226906.0 L 395690.0,4234534.0 L 395780.0,4234534.0 L 395780.0,4241470.0 L 395838.0,4241470.0 L 395838.0,4241510.4 L 395870.0,4241510.4 L 395870.0,4248406.0 L 395960.0,4248406.0 L 395960.0,4255342.0 L 396016.2,4255342.0 L 396016.2,4255380.6 L 396050.0,4255380.6 L 396050.0,4262272.0 L 396140.0,4262272.0 L 396140.0,4269208.0 L 396195.0,4269208.0 L 396195.0,4269251.4 L 396230.0,4269251.4 L 396230.0,4276144.0 L 396320.0,4276144.0 L 396320.0,4283080.0 L 396373.8,4283080.0 L 396373.8,4283122.8 L 396404.0,4283122.8 L 396404.0,4290016.0 L 396494.0,4290016.0 L 396494.0,4296952.0 L 396553.8,4296952.0 L 396553.8,4296994.2 L 396584.0,4296994.2 L 396584.0,4303888.0 L 396680.0,4303888.0 L 396680.0,4310824.0 L 396733.8,4310824.0 L 396733.8,4310865.6 L 396770.0,4310865.6 L 396770.0,4317760.0 L 396860.0,4317760.0 L 396860.0,4324696.0 L 396914.4,4324696.0 L 396914.4,4324738.2 L 396950.0,4324738.2 L 396950.0,4331632.0 L 397040.0,4331632.0 L 397040.0,4338568.0 L 397095.6,4338568.0 L 397095.6,4338610.2 L 397130.0,4338610.2 L 397130.0,4345504.0 L 397220.0,4345504.0 L 397220.0,4352440.0 L 397276.8,4352440.0 L 397276.8,4352482.8 L 397310.0,4352482.8 L 397310.0,4359376.0 L 397400.0,4359376.0 L 397400.0,4365755.4 L 392129.4,4365755.4 L 392129.4,4373310.0 L 392210.0,4373310.0 L 392210.0,4380262.0 L 392224.8,4380262.0 L 392224.8,4380302.4 L 398334.0,4380302.4 L 398334.0,4380228.6 L 403660.2,4380228.6 L 403660.2,4380190.0 L 403672.0,4380190.0 L 403672.0,4380160.2 L 409072.2,4380160.2 L 409072.2,4380094.8 L 414398.4,4380094.8 L 414398.4,4380052.0 L 414412.0,4380052.0 L 414412.0,4380033.6 L 419809.8,4380033.6 L 419809.8,4379975.4 L 425136.0,4379975.4 L 425136.0,4379932.0 L 425146.0,4379932.0 L 425146.0,4379921.4 L 430548.0,4379921.4 L 430548.0,4379871.0 L 435874.2,4379871.0 L 435874.2,4379830.0 L 435886.0,4379830.0 L 435886.0,4379824.8 L 441285.6,4379824.8 L 441285.6,4379781.6 L 446611.8,4379781.6 L 446611.8,4379742.6 L 452023.8,4379742.6 L 452023.8,4379706.6 L 457349.4,4379706.6 L 457349.4,4372083.6 L 457349.0,4372083.6 L 457349.0,4372083.0 L 451980.0,4372083.0 L 451980.0,4365834.0 L 457272.6,4365834.0 L 457272.6,4358812.0 L 462617.0,4358812.0 L 462617.0,4358811.0 L 462660.0,4358811.0 L 462660.0,4351902.0 L 467971.8,4351902.0 L 467971.8,4351848.0 L 467972.0,4351848.0 L 467972.0,4344286.0 L 467943.0,4344286.0 L 467943.0,4337406.0 L 467943.0,4337350.0 L 467914.2,4337350.0 L 467914.2,4330414.8 L 467886.0,4330414.8 L 467886.0,4324134.6 L 473307.6,4324134.6 L 473307.6,4317124.0 L 478653.0,4317124.0 L 478653.0,4309570.0 L 478634.0,4309570.0 L 478634.0,4303236.0 L 484036.0,4303236.0 L 484036.0,4303234.8 L 484079.4,4303234.8 L 484079.4,4296341.4 L 489447.6,4296341.4 L 489447.6,4296332.4 L 494917.8,4296332.4 L 494917.8,4288735.8 L 494913.0,4288735.8 L 494913.0,4281856.2 L 494908.2,4281856.2 L 494908.2,4274865.0 L 494903.4,4274865.0 L 494903.4,4267985.4 L 494898.6,4267985.4 L 494898.6,4260994.8 L 494893.8,4260994.8 L 494893.8,4254115.2 L 494889.6,4254115.2 L 494889.6,4247125.2 L 494884.8,4247125.2 L 494884.8,4240245.6 L 494880.0,4240245.6 L 494880.0,4233255.0 L 494848.0,4233255.0 L 494848.0,4233242.0 L 489376.0,4233242.0 L 489376.0,4226312.0 L 489364.0,4226312.0 L 489364.0,4219376.0 L 489358.0,4219376.0 L 489358.0,4212446.0 L 483896.4,4212446.0 L 483896.4,4205531.4 L 483862.0,4205531.4 L 483862.0,4205516.0 L 478352.0,4205516.0 L 478352.0,4198609.0 L 478350.0,4198609.0 L 478334.0,4198609.0 L 478334.0,4191674.0 L 478333.0,4191674.0 L 472861.2,4191674.0 L 472861.2,4184812.8 L 472818.0,4184812.8 L 472818.0,4184756.0 L 466692.0,4184756.0 L 466692.0,4184757.0 L 466692.0,4184758.0 L 466690.0,4184758.0 L 466690.0,4184777.0 L 461190.0,4184777.0 L 461190.0,4184778.0 L 461190.0,4184799.0 L 456291.0,4184799.0 L 456291.0,4177894.0 L 456290.0,4177894.0 L 456290.0,4177893.0 L 456254.0,4177893.0 L 456254.0,4170960.0 L 456253.0,4170960.0 L 456253.0,4170959.0 L 450749.4,4170959.0 L 450749.4,4164057.6 L 450708.0,4164057.6 L 450708.0,4157178.6 L 450666.6,4157178.6 L 450666.6,4150189.2 L 450624.0,4150189.2 L 450624.0,4150187.0 L 445057.0,4150187.0 L 445057.0,4143289.0 L 445057.0,4143288.0 L 445012.0,4143288.0 L 445012.0,4136354.0 L 439474.8,4136354.0 z M 428827.8,4185677.4 L 433682.0,4185677.4 L 433682.0,4191909.0 L 428240.0,4191909.0 L 428240.0,4191944.0 L 423348.0,4191944.0 L 423348.0,4185727.8 L 428827.8,4185727.8 L 428827.8,4185677.4 z\" /></g></g></svg>"
      ],
      "text/plain": [
       "<shapely.geometry.multipolygon.MultiPolygon at 0x7fe864ffc590>"
      ]
     },
     "execution_count": 8,
     "metadata": {},
     "output_type": "execute_result"
    }
   ],
   "source": [
    "valid_polygon"
   ]
  },
  {
   "cell_type": "code",
   "execution_count": 8,
   "id": "chubby-techno",
   "metadata": {},
   "outputs": [],
   "source": [
    "buffer = 0.05\n",
    "geoms = []\n",
    "while len(geoms) < 6013:\n",
    "    \n",
    "    length = np.random.choice(lengths)\n",
    "    \n",
    "    p_minx = (np.random.random() * width * (1 - buffer*2)) - length + minx + (width * buffer)\n",
    "    p_miny = (np.random.random() * height * (1 - buffer*2)) - length + miny  + (height * buffer)\n",
    "    \n",
    "    p_maxx = p_minx + length\n",
    "    p_maxy = p_miny + length\n",
    "    \n",
    "    \n",
    "    shape = shapely.geometry.box(p_minx, p_miny, p_maxx, p_maxy)\n",
    "    \n",
    "    if valid_polygon.contains(shape):    \n",
    "        geom = shapely.geometry.mapping(\n",
    "            shape\n",
    "        )\n",
    "        geoms.append(geom)"
   ]
  },
  {
   "cell_type": "code",
   "execution_count": 9,
   "id": "recorded-clearing",
   "metadata": {},
   "outputs": [],
   "source": [
    "schema = {\n",
    "    \"properties\": {\"id\": \"int\"},\n",
    "    \"geometry\": \"Polygon\"\n",
    "}\n",
    "with fiona.open(\"../data/poultry_barn_6013_random_polygons_epsg26918.geojson\", \"w\", driver=\"GeoJSON\", crs=\"epsg:26918\", schema=schema) as f:\n",
    "    for i, geom in enumerate(geoms):\n",
    "\n",
    "        f.write({\n",
    "            \"type\":\"Feature\",\n",
    "            \"properties\": {\"id\": i},\n",
    "            \"geometry\": geom\n",
    "        })"
   ]
  },
  {
   "cell_type": "markdown",
   "id": "presidential-minneapolis",
   "metadata": {},
   "source": [
    "## S2"
   ]
  },
  {
   "cell_type": "code",
   "execution_count": 9,
   "id": "cardiac-corps",
   "metadata": {},
   "outputs": [],
   "source": [
    "geoms = utils.get_solar_farm_geoms(\"../data/\")\n",
    "\n",
    "areas = []\n",
    "for geom in geoms:\n",
    "    shape = shapely.geometry.shape(geom)\n",
    "    areas.append(shape.area)\n",
    "\n",
    "lengths = np.sqrt(areas)\n",
    "mean_length = np.mean(lengths)"
   ]
  },
  {
   "cell_type": "code",
   "execution_count": 10,
   "id": "sealed-packing",
   "metadata": {},
   "outputs": [
    {
     "data": {
      "text/plain": [
       "935"
      ]
     },
     "execution_count": 10,
     "metadata": {},
     "output_type": "execute_result"
    }
   ],
   "source": [
    "len(geoms)"
   ]
  },
  {
   "cell_type": "code",
   "execution_count": 11,
   "id": "assigned-compilation",
   "metadata": {},
   "outputs": [],
   "source": [
    "with rasterio.open(DataInterface.S2DataLoader.urls[0]) as f:\n",
    "    minx, miny, maxx, maxy = f.bounds\n",
    "    \n",
    "width = maxx-minx\n",
    "height = maxy-miny"
   ]
  },
  {
   "cell_type": "code",
   "execution_count": 12,
   "id": "different-chassis",
   "metadata": {},
   "outputs": [],
   "source": [
    "with fiona.open(\"../data/solar_farms_valid_s2_area.geojson\") as f:\n",
    "    valid_polygon = shapely.geometry.shape(next(iter(f))[\"geometry\"])"
   ]
  },
  {
   "cell_type": "code",
   "execution_count": 8,
   "id": "bright-destruction",
   "metadata": {},
   "outputs": [],
   "source": [
    "geoms = []\n",
    "buffer = 0.05\n",
    "while len(geoms) < 935:\n",
    "    \n",
    "    length = np.random.choice(lengths)\n",
    "    #length = mean_length\n",
    "    \n",
    "    p_minx = (np.random.random() * width * (1 - buffer*2)) - length + minx + (width * buffer)\n",
    "    p_miny = (np.random.random() * height * (1 - buffer*2)) - length + miny  + (height * buffer)\n",
    "    \n",
    "    p_maxx = p_minx + length\n",
    "    p_maxy = p_miny + length\n",
    "    \n",
    "    \n",
    "    shape = shapely.geometry.box(p_minx, p_miny, p_maxx, p_maxy)\n",
    "    \n",
    "    if valid_polygon.contains(shape):    \n",
    "        geom = shapely.geometry.mapping(\n",
    "            shape\n",
    "        )\n",
    "        geoms.append(geom)"
   ]
  },
  {
   "cell_type": "code",
   "execution_count": 9,
   "id": "minute-distance",
   "metadata": {},
   "outputs": [],
   "source": [
    "schema = {\n",
    "    \"properties\": {\"id\": \"int\"},\n",
    "    \"geometry\": \"Polygon\"\n",
    "}\n",
    "with fiona.open(\"../data/solar_farms_935_random_polygons_epsg4326.geojson\", \"w\", driver=\"GeoJSON\", crs=\"epsg:4326\", schema=schema) as f:\n",
    "    for i, geom in enumerate(geoms):\n",
    "\n",
    "        f.write({\n",
    "            \"type\":\"Feature\",\n",
    "            \"properties\": {\"id\": i},\n",
    "            \"geometry\": geom\n",
    "        })"
   ]
  },
  {
   "cell_type": "code",
   "execution_count": null,
   "id": "stylish-norfolk",
   "metadata": {},
   "outputs": [],
   "source": []
  }
 ],
 "metadata": {
  "kernelspec": {
   "display_name": "backdating",
   "language": "python",
   "name": "conda-env-backdating-py"
  },
  "language_info": {
   "codemirror_mode": {
    "name": "ipython",
    "version": 3
   },
   "file_extension": ".py",
   "mimetype": "text/x-python",
   "name": "python",
   "nbconvert_exporter": "python",
   "pygments_lexer": "ipython3",
   "version": "3.7.7"
  }
 },
 "nbformat": 4,
 "nbformat_minor": 5
}
